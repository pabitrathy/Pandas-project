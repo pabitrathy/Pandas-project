{
 "cells": [
  {
   "cell_type": "code",
   "execution_count": 45,
   "id": "f36a08b0",
   "metadata": {},
   "outputs": [],
   "source": [
    "import pandas as pd"
   ]
  },
  {
   "cell_type": "code",
   "execution_count": 46,
   "id": "908be0c6",
   "metadata": {},
   "outputs": [],
   "source": [
    "df = pd.read_csv(\"students.csv\")"
   ]
  },
  {
   "cell_type": "code",
   "execution_count": 47,
   "id": "0c97b370",
   "metadata": {},
   "outputs": [
    {
     "data": {
      "text/html": [
       "<div>\n",
       "<style scoped>\n",
       "    .dataframe tbody tr th:only-of-type {\n",
       "        vertical-align: middle;\n",
       "    }\n",
       "\n",
       "    .dataframe tbody tr th {\n",
       "        vertical-align: top;\n",
       "    }\n",
       "\n",
       "    .dataframe thead th {\n",
       "        text-align: right;\n",
       "    }\n",
       "</style>\n",
       "<table border=\"1\" class=\"dataframe\">\n",
       "  <thead>\n",
       "    <tr style=\"text-align: right;\">\n",
       "      <th></th>\n",
       "      <th>Student_ID</th>\n",
       "      <th>Name</th>\n",
       "      <th>Age</th>\n",
       "      <th>Gender</th>\n",
       "      <th>Department</th>\n",
       "      <th>Marks</th>\n",
       "      <th>Join_Date</th>\n",
       "    </tr>\n",
       "  </thead>\n",
       "  <tbody>\n",
       "    <tr>\n",
       "      <th>0</th>\n",
       "      <td>101</td>\n",
       "      <td>Ananya</td>\n",
       "      <td>20</td>\n",
       "      <td>F</td>\n",
       "      <td>CS</td>\n",
       "      <td>85</td>\n",
       "      <td>2022-08-01</td>\n",
       "    </tr>\n",
       "    <tr>\n",
       "      <th>1</th>\n",
       "      <td>102</td>\n",
       "      <td>Rohan</td>\n",
       "      <td>21</td>\n",
       "      <td>M</td>\n",
       "      <td>EE</td>\n",
       "      <td>78</td>\n",
       "      <td>2021-09-01</td>\n",
       "    </tr>\n",
       "    <tr>\n",
       "      <th>2</th>\n",
       "      <td>103</td>\n",
       "      <td>Priya</td>\n",
       "      <td>19</td>\n",
       "      <td>F</td>\n",
       "      <td>CS</td>\n",
       "      <td>92</td>\n",
       "      <td>2023-01-10</td>\n",
       "    </tr>\n",
       "    <tr>\n",
       "      <th>3</th>\n",
       "      <td>104</td>\n",
       "      <td>Vikram</td>\n",
       "      <td>22</td>\n",
       "      <td>M</td>\n",
       "      <td>ME</td>\n",
       "      <td>69</td>\n",
       "      <td>2020-07-15</td>\n",
       "    </tr>\n",
       "    <tr>\n",
       "      <th>4</th>\n",
       "      <td>105</td>\n",
       "      <td>Sweta</td>\n",
       "      <td>20</td>\n",
       "      <td>F</td>\n",
       "      <td>EE</td>\n",
       "      <td>88</td>\n",
       "      <td>2022-03-20</td>\n",
       "    </tr>\n",
       "  </tbody>\n",
       "</table>\n",
       "</div>"
      ],
      "text/plain": [
       "   Student_ID    Name  Age Gender Department  Marks   Join_Date\n",
       "0         101  Ananya   20      F         CS     85  2022-08-01\n",
       "1         102   Rohan   21      M         EE     78  2021-09-01\n",
       "2         103   Priya   19      F         CS     92  2023-01-10\n",
       "3         104  Vikram   22      M         ME     69  2020-07-15\n",
       "4         105   Sweta   20      F         EE     88  2022-03-20"
      ]
     },
     "execution_count": 47,
     "metadata": {},
     "output_type": "execute_result"
    }
   ],
   "source": [
    "df"
   ]
  },
  {
   "cell_type": "code",
   "execution_count": 48,
   "id": "1493ddd7",
   "metadata": {},
   "outputs": [
    {
     "data": {
      "text/html": [
       "<div>\n",
       "<style scoped>\n",
       "    .dataframe tbody tr th:only-of-type {\n",
       "        vertical-align: middle;\n",
       "    }\n",
       "\n",
       "    .dataframe tbody tr th {\n",
       "        vertical-align: top;\n",
       "    }\n",
       "\n",
       "    .dataframe thead th {\n",
       "        text-align: right;\n",
       "    }\n",
       "</style>\n",
       "<table border=\"1\" class=\"dataframe\">\n",
       "  <thead>\n",
       "    <tr style=\"text-align: right;\">\n",
       "      <th></th>\n",
       "      <th>Student_ID</th>\n",
       "      <th>Name</th>\n",
       "      <th>Age</th>\n",
       "      <th>Gender</th>\n",
       "      <th>Department</th>\n",
       "      <th>Marks</th>\n",
       "      <th>Join_Date</th>\n",
       "    </tr>\n",
       "  </thead>\n",
       "  <tbody>\n",
       "    <tr>\n",
       "      <th>0</th>\n",
       "      <td>101</td>\n",
       "      <td>Ananya</td>\n",
       "      <td>20</td>\n",
       "      <td>F</td>\n",
       "      <td>CS</td>\n",
       "      <td>85</td>\n",
       "      <td>2022-08-01</td>\n",
       "    </tr>\n",
       "    <tr>\n",
       "      <th>2</th>\n",
       "      <td>103</td>\n",
       "      <td>Priya</td>\n",
       "      <td>19</td>\n",
       "      <td>F</td>\n",
       "      <td>CS</td>\n",
       "      <td>92</td>\n",
       "      <td>2023-01-10</td>\n",
       "    </tr>\n",
       "  </tbody>\n",
       "</table>\n",
       "</div>"
      ],
      "text/plain": [
       "   Student_ID    Name  Age Gender Department  Marks   Join_Date\n",
       "0         101  Ananya   20      F         CS     85  2022-08-01\n",
       "2         103   Priya   19      F         CS     92  2023-01-10"
      ]
     },
     "execution_count": 48,
     "metadata": {},
     "output_type": "execute_result"
    }
   ],
   "source": [
    "df[df[\"Department\"] == \"CS\"]"
   ]
  },
  {
   "cell_type": "code",
   "execution_count": 49,
   "id": "7c50f0b0",
   "metadata": {},
   "outputs": [
    {
     "data": {
      "text/plain": [
       "[Department\n",
       " CS    88.5\n",
       " EE    83.0\n",
       " ME    69.0\n",
       " Name: Marks, dtype: float64]"
      ]
     },
     "execution_count": 49,
     "metadata": {},
     "output_type": "execute_result"
    }
   ],
   "source": [
    "[df.groupby(\"Department\")[\"Marks\"].mean()]"
   ]
  },
  {
   "cell_type": "code",
   "execution_count": 50,
   "id": "beda9ecd",
   "metadata": {},
   "outputs": [
    {
     "data": {
      "text/html": [
       "<div>\n",
       "<style scoped>\n",
       "    .dataframe tbody tr th:only-of-type {\n",
       "        vertical-align: middle;\n",
       "    }\n",
       "\n",
       "    .dataframe tbody tr th {\n",
       "        vertical-align: top;\n",
       "    }\n",
       "\n",
       "    .dataframe thead th {\n",
       "        text-align: right;\n",
       "    }\n",
       "</style>\n",
       "<table border=\"1\" class=\"dataframe\">\n",
       "  <thead>\n",
       "    <tr style=\"text-align: right;\">\n",
       "      <th></th>\n",
       "      <th>Student_ID</th>\n",
       "      <th>Name</th>\n",
       "      <th>Age</th>\n",
       "      <th>Gender</th>\n",
       "      <th>Department</th>\n",
       "      <th>Marks</th>\n",
       "      <th>Join_Date</th>\n",
       "    </tr>\n",
       "  </thead>\n",
       "  <tbody>\n",
       "    <tr>\n",
       "      <th>2</th>\n",
       "      <td>103</td>\n",
       "      <td>Priya</td>\n",
       "      <td>19</td>\n",
       "      <td>F</td>\n",
       "      <td>CS</td>\n",
       "      <td>92</td>\n",
       "      <td>2023-01-10</td>\n",
       "    </tr>\n",
       "  </tbody>\n",
       "</table>\n",
       "</div>"
      ],
      "text/plain": [
       "   Student_ID   Name  Age Gender Department  Marks   Join_Date\n",
       "2         103  Priya   19      F         CS     92  2023-01-10"
      ]
     },
     "execution_count": 50,
     "metadata": {},
     "output_type": "execute_result"
    }
   ],
   "source": [
    "df[df[\"Join_Date\"].str[:4].astype(int) > 2022]"
   ]
  },
  {
   "cell_type": "code",
   "execution_count": 51,
   "id": "68f52f4d",
   "metadata": {},
   "outputs": [],
   "source": [
    "df[\"Grade\"] = df[\"Marks\"].apply(lambda x: \"A\" if x >= 90 else (\"B\" if x >= 75 and x <= 89 else \"C\"))"
   ]
  },
  {
   "cell_type": "code",
   "execution_count": 52,
   "id": "5b905648",
   "metadata": {},
   "outputs": [
    {
     "data": {
      "text/html": [
       "<div>\n",
       "<style scoped>\n",
       "    .dataframe tbody tr th:only-of-type {\n",
       "        vertical-align: middle;\n",
       "    }\n",
       "\n",
       "    .dataframe tbody tr th {\n",
       "        vertical-align: top;\n",
       "    }\n",
       "\n",
       "    .dataframe thead th {\n",
       "        text-align: right;\n",
       "    }\n",
       "</style>\n",
       "<table border=\"1\" class=\"dataframe\">\n",
       "  <thead>\n",
       "    <tr style=\"text-align: right;\">\n",
       "      <th></th>\n",
       "      <th>Student_ID</th>\n",
       "      <th>Name</th>\n",
       "      <th>Age</th>\n",
       "      <th>Gender</th>\n",
       "      <th>Department</th>\n",
       "      <th>Marks</th>\n",
       "      <th>Join_Date</th>\n",
       "      <th>Grade</th>\n",
       "    </tr>\n",
       "  </thead>\n",
       "  <tbody>\n",
       "    <tr>\n",
       "      <th>0</th>\n",
       "      <td>101</td>\n",
       "      <td>Ananya</td>\n",
       "      <td>20</td>\n",
       "      <td>F</td>\n",
       "      <td>CS</td>\n",
       "      <td>85</td>\n",
       "      <td>2022-08-01</td>\n",
       "      <td>B</td>\n",
       "    </tr>\n",
       "    <tr>\n",
       "      <th>1</th>\n",
       "      <td>102</td>\n",
       "      <td>Rohan</td>\n",
       "      <td>21</td>\n",
       "      <td>M</td>\n",
       "      <td>EE</td>\n",
       "      <td>78</td>\n",
       "      <td>2021-09-01</td>\n",
       "      <td>B</td>\n",
       "    </tr>\n",
       "    <tr>\n",
       "      <th>2</th>\n",
       "      <td>103</td>\n",
       "      <td>Priya</td>\n",
       "      <td>19</td>\n",
       "      <td>F</td>\n",
       "      <td>CS</td>\n",
       "      <td>92</td>\n",
       "      <td>2023-01-10</td>\n",
       "      <td>A</td>\n",
       "    </tr>\n",
       "    <tr>\n",
       "      <th>3</th>\n",
       "      <td>104</td>\n",
       "      <td>Vikram</td>\n",
       "      <td>22</td>\n",
       "      <td>M</td>\n",
       "      <td>ME</td>\n",
       "      <td>69</td>\n",
       "      <td>2020-07-15</td>\n",
       "      <td>C</td>\n",
       "    </tr>\n",
       "    <tr>\n",
       "      <th>4</th>\n",
       "      <td>105</td>\n",
       "      <td>Sweta</td>\n",
       "      <td>20</td>\n",
       "      <td>F</td>\n",
       "      <td>EE</td>\n",
       "      <td>88</td>\n",
       "      <td>2022-03-20</td>\n",
       "      <td>B</td>\n",
       "    </tr>\n",
       "  </tbody>\n",
       "</table>\n",
       "</div>"
      ],
      "text/plain": [
       "   Student_ID    Name  Age Gender Department  Marks   Join_Date Grade\n",
       "0         101  Ananya   20      F         CS     85  2022-08-01     B\n",
       "1         102   Rohan   21      M         EE     78  2021-09-01     B\n",
       "2         103   Priya   19      F         CS     92  2023-01-10     A\n",
       "3         104  Vikram   22      M         ME     69  2020-07-15     C\n",
       "4         105   Sweta   20      F         EE     88  2022-03-20     B"
      ]
     },
     "execution_count": 52,
     "metadata": {},
     "output_type": "execute_result"
    }
   ],
   "source": [
    "df"
   ]
  },
  {
   "cell_type": "code",
   "execution_count": 53,
   "id": "86168026",
   "metadata": {},
   "outputs": [],
   "source": [
    "df[\"Join_Date\"] = pd.to_datetime(df[\"Join_Date\"])"
   ]
  },
  {
   "cell_type": "code",
   "execution_count": 55,
   "id": "eb2cf34a",
   "metadata": {},
   "outputs": [
    {
     "data": {
      "text/plain": [
       "Student_ID             int64\n",
       "Name                  object\n",
       "Age                    int64\n",
       "Gender                object\n",
       "Department            object\n",
       "Marks                  int64\n",
       "Join_Date     datetime64[ns]\n",
       "Grade                 object\n",
       "dtype: object"
      ]
     },
     "execution_count": 55,
     "metadata": {},
     "output_type": "execute_result"
    }
   ],
   "source": [
    "df.dtypes"
   ]
  },
  {
   "cell_type": "code",
   "execution_count": 58,
   "id": "f936bc72",
   "metadata": {},
   "outputs": [],
   "source": [
    "df[\"Join_Year\"] = df[\"Join_Date\"].dt.year"
   ]
  },
  {
   "cell_type": "code",
   "execution_count": 59,
   "id": "55f607a8",
   "metadata": {},
   "outputs": [
    {
     "data": {
      "text/html": [
       "<div>\n",
       "<style scoped>\n",
       "    .dataframe tbody tr th:only-of-type {\n",
       "        vertical-align: middle;\n",
       "    }\n",
       "\n",
       "    .dataframe tbody tr th {\n",
       "        vertical-align: top;\n",
       "    }\n",
       "\n",
       "    .dataframe thead th {\n",
       "        text-align: right;\n",
       "    }\n",
       "</style>\n",
       "<table border=\"1\" class=\"dataframe\">\n",
       "  <thead>\n",
       "    <tr style=\"text-align: right;\">\n",
       "      <th></th>\n",
       "      <th>Student_ID</th>\n",
       "      <th>Name</th>\n",
       "      <th>Age</th>\n",
       "      <th>Gender</th>\n",
       "      <th>Department</th>\n",
       "      <th>Marks</th>\n",
       "      <th>Join_Date</th>\n",
       "      <th>Grade</th>\n",
       "      <th>Join_Year</th>\n",
       "    </tr>\n",
       "  </thead>\n",
       "  <tbody>\n",
       "    <tr>\n",
       "      <th>0</th>\n",
       "      <td>101</td>\n",
       "      <td>Ananya</td>\n",
       "      <td>20</td>\n",
       "      <td>F</td>\n",
       "      <td>CS</td>\n",
       "      <td>85</td>\n",
       "      <td>2022-08-01</td>\n",
       "      <td>B</td>\n",
       "      <td>2022</td>\n",
       "    </tr>\n",
       "    <tr>\n",
       "      <th>1</th>\n",
       "      <td>102</td>\n",
       "      <td>Rohan</td>\n",
       "      <td>21</td>\n",
       "      <td>M</td>\n",
       "      <td>EE</td>\n",
       "      <td>78</td>\n",
       "      <td>2021-09-01</td>\n",
       "      <td>B</td>\n",
       "      <td>2021</td>\n",
       "    </tr>\n",
       "    <tr>\n",
       "      <th>2</th>\n",
       "      <td>103</td>\n",
       "      <td>Priya</td>\n",
       "      <td>19</td>\n",
       "      <td>F</td>\n",
       "      <td>CS</td>\n",
       "      <td>92</td>\n",
       "      <td>2023-01-10</td>\n",
       "      <td>A</td>\n",
       "      <td>2023</td>\n",
       "    </tr>\n",
       "    <tr>\n",
       "      <th>3</th>\n",
       "      <td>104</td>\n",
       "      <td>Vikram</td>\n",
       "      <td>22</td>\n",
       "      <td>M</td>\n",
       "      <td>ME</td>\n",
       "      <td>69</td>\n",
       "      <td>2020-07-15</td>\n",
       "      <td>C</td>\n",
       "      <td>2020</td>\n",
       "    </tr>\n",
       "    <tr>\n",
       "      <th>4</th>\n",
       "      <td>105</td>\n",
       "      <td>Sweta</td>\n",
       "      <td>20</td>\n",
       "      <td>F</td>\n",
       "      <td>EE</td>\n",
       "      <td>88</td>\n",
       "      <td>2022-03-20</td>\n",
       "      <td>B</td>\n",
       "      <td>2022</td>\n",
       "    </tr>\n",
       "  </tbody>\n",
       "</table>\n",
       "</div>"
      ],
      "text/plain": [
       "   Student_ID    Name  Age Gender Department  Marks  Join_Date Grade  \\\n",
       "0         101  Ananya   20      F         CS     85 2022-08-01     B   \n",
       "1         102   Rohan   21      M         EE     78 2021-09-01     B   \n",
       "2         103   Priya   19      F         CS     92 2023-01-10     A   \n",
       "3         104  Vikram   22      M         ME     69 2020-07-15     C   \n",
       "4         105   Sweta   20      F         EE     88 2022-03-20     B   \n",
       "\n",
       "   Join_Year  \n",
       "0       2022  \n",
       "1       2021  \n",
       "2       2023  \n",
       "3       2020  \n",
       "4       2022  "
      ]
     },
     "execution_count": 59,
     "metadata": {},
     "output_type": "execute_result"
    }
   ],
   "source": [
    "df"
   ]
  },
  {
   "cell_type": "code",
   "execution_count": null,
   "id": "9b2071c3",
   "metadata": {},
   "outputs": [],
   "source": []
  }
 ],
 "metadata": {
  "kernelspec": {
   "display_name": "base",
   "language": "python",
   "name": "python3"
  },
  "language_info": {
   "codemirror_mode": {
    "name": "ipython",
    "version": 3
   },
   "file_extension": ".py",
   "mimetype": "text/x-python",
   "name": "python",
   "nbconvert_exporter": "python",
   "pygments_lexer": "ipython3",
   "version": "3.11.7"
  }
 },
 "nbformat": 4,
 "nbformat_minor": 5
}
