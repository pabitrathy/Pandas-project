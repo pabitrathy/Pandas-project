{
 "cells": [
  {
   "cell_type": "code",
   "execution_count": 19,
   "id": "2fc09c98",
   "metadata": {},
   "outputs": [],
   "source": [
    "import pandas as pd"
   ]
  },
  {
   "cell_type": "code",
   "execution_count": 20,
   "id": "2bef08d8",
   "metadata": {},
   "outputs": [],
   "source": [
    "dfe = pd.read_csv(\"Employees.csv\")"
   ]
  },
  {
   "cell_type": "code",
   "execution_count": 21,
   "id": "7ccf6fc3",
   "metadata": {},
   "outputs": [
    {
     "data": {
      "text/html": [
       "<div>\n",
       "<style scoped>\n",
       "    .dataframe tbody tr th:only-of-type {\n",
       "        vertical-align: middle;\n",
       "    }\n",
       "\n",
       "    .dataframe tbody tr th {\n",
       "        vertical-align: top;\n",
       "    }\n",
       "\n",
       "    .dataframe thead th {\n",
       "        text-align: right;\n",
       "    }\n",
       "</style>\n",
       "<table border=\"1\" class=\"dataframe\">\n",
       "  <thead>\n",
       "    <tr style=\"text-align: right;\">\n",
       "      <th></th>\n",
       "      <th>Employee_ID</th>\n",
       "      <th>Name</th>\n",
       "      <th>Department</th>\n",
       "      <th>Salary</th>\n",
       "      <th>Join_Date</th>\n",
       "    </tr>\n",
       "  </thead>\n",
       "  <tbody>\n",
       "    <tr>\n",
       "      <th>0</th>\n",
       "      <td>1</td>\n",
       "      <td>Amit</td>\n",
       "      <td>IT</td>\n",
       "      <td>60000.0</td>\n",
       "      <td>2022-05-10</td>\n",
       "    </tr>\n",
       "    <tr>\n",
       "      <th>1</th>\n",
       "      <td>2</td>\n",
       "      <td>Neha</td>\n",
       "      <td>HR</td>\n",
       "      <td>NaN</td>\n",
       "      <td>2021-03-12</td>\n",
       "    </tr>\n",
       "    <tr>\n",
       "      <th>2</th>\n",
       "      <td>3</td>\n",
       "      <td>Rahul</td>\n",
       "      <td>IT</td>\n",
       "      <td>55000.0</td>\n",
       "      <td>2020-08-01</td>\n",
       "    </tr>\n",
       "    <tr>\n",
       "      <th>3</th>\n",
       "      <td>4</td>\n",
       "      <td>Simran</td>\n",
       "      <td>Finance</td>\n",
       "      <td>72000.0</td>\n",
       "      <td>2023-01-15</td>\n",
       "    </tr>\n",
       "    <tr>\n",
       "      <th>4</th>\n",
       "      <td>5</td>\n",
       "      <td>Arjun</td>\n",
       "      <td>Marketing</td>\n",
       "      <td>50000.0</td>\n",
       "      <td>2021-11-21</td>\n",
       "    </tr>\n",
       "    <tr>\n",
       "      <th>5</th>\n",
       "      <td>6</td>\n",
       "      <td>Pooja</td>\n",
       "      <td>HR</td>\n",
       "      <td>50000.0</td>\n",
       "      <td>2020-12-09</td>\n",
       "    </tr>\n",
       "    <tr>\n",
       "      <th>6</th>\n",
       "      <td>7</td>\n",
       "      <td>Varun</td>\n",
       "      <td>IT</td>\n",
       "      <td>62000.0</td>\n",
       "      <td>2022-09-30</td>\n",
       "    </tr>\n",
       "  </tbody>\n",
       "</table>\n",
       "</div>"
      ],
      "text/plain": [
       "   Employee_ID    Name Department   Salary   Join_Date\n",
       "0            1    Amit         IT  60000.0  2022-05-10\n",
       "1            2    Neha         HR      NaN  2021-03-12\n",
       "2            3   Rahul         IT  55000.0  2020-08-01\n",
       "3            4  Simran    Finance  72000.0  2023-01-15\n",
       "4            5   Arjun  Marketing  50000.0  2021-11-21\n",
       "5            6   Pooja         HR  50000.0  2020-12-09\n",
       "6            7   Varun         IT  62000.0  2022-09-30"
      ]
     },
     "execution_count": 21,
     "metadata": {},
     "output_type": "execute_result"
    }
   ],
   "source": [
    "dfe"
   ]
  },
  {
   "cell_type": "code",
   "execution_count": 22,
   "id": "2266cc98",
   "metadata": {},
   "outputs": [],
   "source": [
    "avrage_sal = dfe[\"Salary\"].sum()/dfe[\"Salary\"].count()\n",
    "avrage_sal = round(avrage_sal, 1)"
   ]
  },
  {
   "cell_type": "code",
   "execution_count": 23,
   "id": "77e484cf",
   "metadata": {},
   "outputs": [
    {
     "data": {
      "text/plain": [
       "58166.7"
      ]
     },
     "execution_count": 23,
     "metadata": {},
     "output_type": "execute_result"
    }
   ],
   "source": [
    "avrage_sal"
   ]
  },
  {
   "cell_type": "code",
   "execution_count": 24,
   "id": "8fd81f76",
   "metadata": {},
   "outputs": [
    {
     "data": {
      "text/html": [
       "<div>\n",
       "<style scoped>\n",
       "    .dataframe tbody tr th:only-of-type {\n",
       "        vertical-align: middle;\n",
       "    }\n",
       "\n",
       "    .dataframe tbody tr th {\n",
       "        vertical-align: top;\n",
       "    }\n",
       "\n",
       "    .dataframe thead th {\n",
       "        text-align: right;\n",
       "    }\n",
       "</style>\n",
       "<table border=\"1\" class=\"dataframe\">\n",
       "  <thead>\n",
       "    <tr style=\"text-align: right;\">\n",
       "      <th></th>\n",
       "      <th>Employee_ID</th>\n",
       "      <th>Name</th>\n",
       "      <th>Department</th>\n",
       "      <th>Salary</th>\n",
       "      <th>Join_Date</th>\n",
       "    </tr>\n",
       "  </thead>\n",
       "  <tbody>\n",
       "    <tr>\n",
       "      <th>0</th>\n",
       "      <td>1</td>\n",
       "      <td>Amit</td>\n",
       "      <td>IT</td>\n",
       "      <td>60000.0</td>\n",
       "      <td>2022-05-10</td>\n",
       "    </tr>\n",
       "    <tr>\n",
       "      <th>1</th>\n",
       "      <td>2</td>\n",
       "      <td>Neha</td>\n",
       "      <td>HR</td>\n",
       "      <td>58166.7</td>\n",
       "      <td>2021-03-12</td>\n",
       "    </tr>\n",
       "    <tr>\n",
       "      <th>2</th>\n",
       "      <td>3</td>\n",
       "      <td>Rahul</td>\n",
       "      <td>IT</td>\n",
       "      <td>55000.0</td>\n",
       "      <td>2020-08-01</td>\n",
       "    </tr>\n",
       "    <tr>\n",
       "      <th>3</th>\n",
       "      <td>4</td>\n",
       "      <td>Simran</td>\n",
       "      <td>Finance</td>\n",
       "      <td>72000.0</td>\n",
       "      <td>2023-01-15</td>\n",
       "    </tr>\n",
       "    <tr>\n",
       "      <th>4</th>\n",
       "      <td>5</td>\n",
       "      <td>Arjun</td>\n",
       "      <td>Marketing</td>\n",
       "      <td>50000.0</td>\n",
       "      <td>2021-11-21</td>\n",
       "    </tr>\n",
       "    <tr>\n",
       "      <th>5</th>\n",
       "      <td>6</td>\n",
       "      <td>Pooja</td>\n",
       "      <td>HR</td>\n",
       "      <td>50000.0</td>\n",
       "      <td>2020-12-09</td>\n",
       "    </tr>\n",
       "    <tr>\n",
       "      <th>6</th>\n",
       "      <td>7</td>\n",
       "      <td>Varun</td>\n",
       "      <td>IT</td>\n",
       "      <td>62000.0</td>\n",
       "      <td>2022-09-30</td>\n",
       "    </tr>\n",
       "  </tbody>\n",
       "</table>\n",
       "</div>"
      ],
      "text/plain": [
       "   Employee_ID    Name Department   Salary   Join_Date\n",
       "0            1    Amit         IT  60000.0  2022-05-10\n",
       "1            2    Neha         HR  58166.7  2021-03-12\n",
       "2            3   Rahul         IT  55000.0  2020-08-01\n",
       "3            4  Simran    Finance  72000.0  2023-01-15\n",
       "4            5   Arjun  Marketing  50000.0  2021-11-21\n",
       "5            6   Pooja         HR  50000.0  2020-12-09\n",
       "6            7   Varun         IT  62000.0  2022-09-30"
      ]
     },
     "execution_count": 24,
     "metadata": {},
     "output_type": "execute_result"
    }
   ],
   "source": [
    "dfe.fillna({\"Salary\":avrage_sal})"
   ]
  },
  {
   "cell_type": "code",
   "execution_count": 25,
   "id": "d98004f1",
   "metadata": {},
   "outputs": [
    {
     "data": {
      "text/plain": [
       "[Department\n",
       " Finance      72000.0\n",
       " HR           50000.0\n",
       " IT           59000.0\n",
       " Marketing    50000.0\n",
       " Name: Salary, dtype: float64]"
      ]
     },
     "execution_count": 25,
     "metadata": {},
     "output_type": "execute_result"
    }
   ],
   "source": [
    "[dfe.groupby(\"Department\")[\"Salary\"].mean()]"
   ]
  },
  {
   "cell_type": "code",
   "execution_count": 26,
   "id": "91a6c216",
   "metadata": {},
   "outputs": [],
   "source": [
    "dfe[\"Join_Date\"] = pd.to_datetime(dfe[\"Join_Date\"])"
   ]
  },
  {
   "cell_type": "code",
   "execution_count": 27,
   "id": "a217703e",
   "metadata": {},
   "outputs": [
    {
     "data": {
      "text/plain": [
       "Employee_ID             int64\n",
       "Name                   object\n",
       "Department             object\n",
       "Salary                float64\n",
       "Join_Date      datetime64[ns]\n",
       "dtype: object"
      ]
     },
     "execution_count": 27,
     "metadata": {},
     "output_type": "execute_result"
    }
   ],
   "source": [
    "dfe.dtypes"
   ]
  },
  {
   "cell_type": "code",
   "execution_count": 28,
   "id": "b8769ff9",
   "metadata": {},
   "outputs": [
    {
     "data": {
      "text/html": [
       "<div>\n",
       "<style scoped>\n",
       "    .dataframe tbody tr th:only-of-type {\n",
       "        vertical-align: middle;\n",
       "    }\n",
       "\n",
       "    .dataframe tbody tr th {\n",
       "        vertical-align: top;\n",
       "    }\n",
       "\n",
       "    .dataframe thead th {\n",
       "        text-align: right;\n",
       "    }\n",
       "</style>\n",
       "<table border=\"1\" class=\"dataframe\">\n",
       "  <thead>\n",
       "    <tr style=\"text-align: right;\">\n",
       "      <th></th>\n",
       "      <th>Join_Date</th>\n",
       "      <th>Name</th>\n",
       "    </tr>\n",
       "  </thead>\n",
       "  <tbody>\n",
       "    <tr>\n",
       "      <th>0</th>\n",
       "      <td>2022-05-10</td>\n",
       "      <td>Amit</td>\n",
       "    </tr>\n",
       "    <tr>\n",
       "      <th>3</th>\n",
       "      <td>2023-01-15</td>\n",
       "      <td>Simran</td>\n",
       "    </tr>\n",
       "    <tr>\n",
       "      <th>6</th>\n",
       "      <td>2022-09-30</td>\n",
       "      <td>Varun</td>\n",
       "    </tr>\n",
       "  </tbody>\n",
       "</table>\n",
       "</div>"
      ],
      "text/plain": [
       "   Join_Date    Name\n",
       "0 2022-05-10    Amit\n",
       "3 2023-01-15  Simran\n",
       "6 2022-09-30   Varun"
      ]
     },
     "execution_count": 28,
     "metadata": {},
     "output_type": "execute_result"
    }
   ],
   "source": [
    "dfe.loc[dfe[\"Join_Date\"].dt.year > 2021, [\"Join_Date\", \"Name\"]]"
   ]
  },
  {
   "cell_type": "code",
   "execution_count": null,
   "id": "eea048a9",
   "metadata": {},
   "outputs": [],
   "source": []
  }
 ],
 "metadata": {
  "kernelspec": {
   "display_name": "base",
   "language": "python",
   "name": "python3"
  },
  "language_info": {
   "codemirror_mode": {
    "name": "ipython",
    "version": 3
   },
   "file_extension": ".py",
   "mimetype": "text/x-python",
   "name": "python",
   "nbconvert_exporter": "python",
   "pygments_lexer": "ipython3",
   "version": "3.11.7"
  }
 },
 "nbformat": 4,
 "nbformat_minor": 5
}
